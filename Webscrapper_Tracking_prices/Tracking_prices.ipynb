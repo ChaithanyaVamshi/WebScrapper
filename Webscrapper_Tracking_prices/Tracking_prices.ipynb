{
 "cells": [
  {
   "cell_type": "code",
   "execution_count": 1,
   "metadata": {},
   "outputs": [],
   "source": [
    "from bs4 import BeautifulSoup\n",
    "import requests"
   ]
  },
  {
   "cell_type": "code",
   "execution_count": 2,
   "metadata": {},
   "outputs": [],
   "source": [
    "#Selected product URL from snapdeal website\n",
    "page_url = 'https://www.snapdeal.com/product/lenovo-ideapad-s145-8th-gen/650886358139'  "
   ]
  },
  {
   "cell_type": "code",
   "execution_count": 3,
   "metadata": {},
   "outputs": [],
   "source": [
    "#Web servers use user_agent info to assess the capabilities of your computer, optimizing a page’s performance and it helps us to scrap the data from the website with out getting blocked.\n",
    "browser_agent = {\"user_agent\": \"Mozilla/5.0 (Windows NT 10.0; Win64; x64) AppleWebKit/537.36 (KHTML, like Gecko) Chrome/81.0.4044.138 Safari/537.36\"}"
   ]
  },
  {
   "cell_type": "code",
   "execution_count": 4,
   "metadata": {},
   "outputs": [],
   "source": [
    "product_page = requests.get(page_url, headers = browser_agent)"
   ]
  },
  {
   "cell_type": "code",
   "execution_count": 5,
   "metadata": {},
   "outputs": [],
   "source": [
    "soup = BeautifulSoup(product_page.content,'html.parser')  #Parsing the HTML source code of the URL\n",
    "#print(soup.prettify())"
   ]
  },
  {
   "cell_type": "code",
   "execution_count": 6,
   "metadata": {},
   "outputs": [
    {
     "name": "stdout",
     "output_type": "stream",
     "text": [
      "\n",
      "   \t\t\tLenovo Ideapad S145 8th Gen Intel Core i5 15.6 inch FHD Thin and Light Laptop ( 8GB RAM/1 TB HDD + 256 GB SSD/Windows 10/MS Office 2019/ Gray/1.85 Kg), 81MV00WRIN\n",
      "49990\n"
     ]
    },
    {
     "data": {
      "text/plain": [
       "str"
      ]
     },
     "execution_count": 6,
     "metadata": {},
     "output_type": "execute_result"
    }
   ],
   "source": [
    "prod_title = soup.find(class_ = 'pdp-e-i-head').get_text()  #find the product title tag by inspecting on the site\n",
    "prod_price = soup.find(class_=\"payBlkBig\").get_text()       #find the product price tag by inspecting on the site\n",
    "print(prod_title)\n",
    "print(prod_price)   #since the product price is in string format we need to type cast it to float\n",
    "type(prod_price)"
   ]
  },
  {
   "cell_type": "code",
   "execution_count": 7,
   "metadata": {},
   "outputs": [
    {
     "name": "stdout",
     "output_type": "stream",
     "text": [
      "49990.0\n"
     ]
    }
   ],
   "source": [
    "final_price = float(prod_price)  #Typecasting the product price to float data type\n",
    "print(final_price)"
   ]
  },
  {
   "cell_type": "code",
   "execution_count": 8,
   "metadata": {},
   "outputs": [],
   "source": [
    "import smtplib    # Used to send mail to any Internet machine with an SMTP\n",
    "def send_email():\n",
    "    server = smtplib.SMTP('smtp.gmail.com', 587) #create SMTP session\n",
    "    server.ehlo()  # Extended HELO (EHLO) is command sent by an email server to identify itself when connecting to another email server\n",
    "    server.starttls()  # start TLS for security \n",
    "    server.ehlo()\n",
    "    server.login('chaithanyababulu@gmail.com','eaxxnteslclddecb')  # Provide sender email Id and pass. I used google 2 step verification inorder to encrypt password \n",
    "    subject = 'Hurry up! Price went down'\n",
    "    body = 'check the link https://www.snapdeal.com/product/lenovo-ideapad-s145-8th-gen/650886358139'\n",
    "    msg = f\"Subject: {subject}\\n\\n{body}\"\n",
    "    server.sendmail('chaithanyababulu@gmail.com','chaithanyababulu@gmail.com',msg) #Provide sender email id, receiver email id and message.\n",
    "    print('Email has been sent successfully')\n",
    "    server.quit()  #Close the session"
   ]
  },
  {
   "cell_type": "code",
   "execution_count": 9,
   "metadata": {},
   "outputs": [
    {
     "name": "stdout",
     "output_type": "stream",
     "text": [
      "Email has been sent successfully\n"
     ]
    }
   ],
   "source": [
    "if(final_price<50000):  # if product price is less than 50000, then an email will be send to receiver.\n",
    "    send_email()"
   ]
  }
 ],
 "metadata": {
  "kernelspec": {
   "display_name": "Python 3",
   "language": "python",
   "name": "python3"
  },
  "language_info": {
   "codemirror_mode": {
    "name": "ipython",
    "version": 3
   },
   "file_extension": ".py",
   "mimetype": "text/x-python",
   "name": "python",
   "nbconvert_exporter": "python",
   "pygments_lexer": "ipython3",
   "version": "3.7.6"
  }
 },
 "nbformat": 4,
 "nbformat_minor": 4
}
